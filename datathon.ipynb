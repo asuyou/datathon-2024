{
 "cells": [
  {
   "cell_type": "code",
   "execution_count": 63,
   "metadata": {},
   "outputs": [],
   "source": [
    "import numpy as np\n",
    "import pandas as pd\n",
    "import matplotlib.pyplot as plt\n",
    "import torch\n",
    "from torch import nn\n",
    "from torch.utils.data import DataLoader, Dataset\n",
    "from typing import List"
   ]
  },
  {
   "cell_type": "code",
   "execution_count": 64,
   "metadata": {},
   "outputs": [
    {
     "name": "stdout",
     "output_type": "stream",
     "text": [
      "Using mps device\n"
     ]
    }
   ],
   "source": [
    "device = (\n",
    "    \"cuda\"\n",
    "    if torch.cuda.is_available()\n",
    "    else \"mps\"\n",
    "    if torch.backends.mps.is_available()\n",
    "    else \"cpu\"\n",
    ")\n",
    "print(f\"Using {device} device\")"
   ]
  },
  {
   "cell_type": "code",
   "execution_count": 65,
   "metadata": {},
   "outputs": [],
   "source": [
    "class NeuralNetwork(nn.Module):\n",
    "  def __init__(self):\n",
    "      super().__init__()\n",
    "      self.linear_stack = nn.Sequential(\n",
    "          nn.Linear(15, 7),\n",
    "          nn.LeakyReLU(),\n",
    "          nn.Linear(7, 1),\n",
    "          nn.LeakyReLU()\n",
    "      )\n",
    "\n",
    "  def forward(self, x):\n",
    "    logits = self.linear_stack(x)\n",
    "    return logits"
   ]
  },
  {
   "cell_type": "code",
   "execution_count": 66,
   "metadata": {},
   "outputs": [
    {
     "name": "stdout",
     "output_type": "stream",
     "text": [
      "NeuralNetwork(\n",
      "  (linear_stack): Sequential(\n",
      "    (0): Linear(in_features=15, out_features=7, bias=True)\n",
      "    (1): LeakyReLU(negative_slope=0.01)\n",
      "    (2): Linear(in_features=7, out_features=1, bias=True)\n",
      "    (3): LeakyReLU(negative_slope=0.01)\n",
      "  )\n",
      ")\n"
     ]
    }
   ],
   "source": [
    "model = NeuralNetwork().to(device)\n",
    "print(model)\n",
    "\n",
    "loss_fn = nn.L1Loss()\n",
    "optimizer = torch.optim.Adamax(model.parameters(), lr=0.002, weight_decay=0.01)"
   ]
  },
  {
   "cell_type": "code",
   "execution_count": 67,
   "metadata": {},
   "outputs": [],
   "source": [
    "def load_labels(filename):\n",
    "    cols = [\"flag\"]\n",
    "    data = pd.read_csv(filename, usecols=cols)\n",
    "    # data.set_index(\"id\", inplace=True)\n",
    "    return data"
   ]
  },
  {
   "cell_type": "code",
   "execution_count": 68,
   "metadata": {},
   "outputs": [],
   "source": [
    "def data_prep(filename):\n",
    "  desired_columns = [\"pre_loans5\",\n",
    "                     \"pre_loans530\",\n",
    "                     \"pre_loans3060\",\n",
    "                     \"pre_loans6090\",\n",
    "                     \"pre_loans90\",\n",
    "                     \"pre_till_pclose\",\n",
    "                     \"pre_till_fclose\",\n",
    "                     \"pre_loans_credit_limit\",\n",
    "                     \"pre_loans_next_pay_summ\",\n",
    "                     \"pre_loans_outstanding\",\n",
    "                     \"pre_loans_total_overdue\",\n",
    "                     \"pre_loans_max_overdue_sum\",\n",
    "                     \"pre_util\",\n",
    "                     \"pre_over2limit\",\n",
    "                     \"pre_maxover2limit\"]\n",
    "  data = pd.read_csv(filename,usecols = desired_columns)\n",
    "  # data.set_index(\"id\", inplace=True)\n",
    "  # data = data.sample(100_000)\n",
    "  return data"
   ]
  },
  {
   "cell_type": "code",
   "execution_count": 69,
   "metadata": {},
   "outputs": [],
   "source": [
    "class CustomDataset(Dataset):\n",
    "  def __init__(self, dataset_file, label_file, transform=None):\n",
    "    self.df = data_prep(dataset_file)\n",
    "    self.labels = load_labels(label_file)\n",
    "    self.transform = transform\n",
    "\n",
    "\n",
    "  def __len__(self):\n",
    "    # return self.df.shape[0]\n",
    "    return 100_000\n",
    "\n",
    "  def __getitem__(self, index):\n",
    "    data = torch.tensor(self.df.loc[index]).float()\n",
    "    data = data.to(device)\n",
    "    label = torch.tensor(self.labels.loc[index]).float()\n",
    "    label = label.to(device)\n",
    "\n",
    "    if self.transform:\n",
    "      data = self.transform(data)\n",
    "    return data, label"
   ]
  },
  {
   "cell_type": "code",
   "execution_count": 70,
   "metadata": {},
   "outputs": [],
   "source": [
    "data_files = [\n",
    "    \"datathon_student/train_data/train_data_0.csv\",\n",
    "    \"datathon_student/train_data/train_data_1.csv\",\n",
    "    \"datathon_student/train_data/train_data_2.csv\",\n",
    "    \"datathon_student/train_data/train_data_3.csv\",\n",
    "    \"datathon_student/train_data/train_data_4.csv\",\n",
    "    \"datathon_student/train_data/train_data_5.csv\",\n",
    "    \"datathon_student/train_data/train_data_6.csv\",\n",
    "    \"datathon_student/train_data/train_data_7.csv\",\n",
    "    \"datathon_student/train_data/train_data_8.csv\",\n",
    "    \"datathon_student/train_data/train_data_9.csv\",\n",
    "    \"datathon_student/train_data/train_data_10.csv\",\n",
    "]\n",
    "\n"
   ]
  },
  {
   "cell_type": "code",
   "execution_count": 71,
   "metadata": {},
   "outputs": [],
   "source": [
    "def train_one_epoch(epoch_index):\n",
    "  running_loss = 0.\n",
    "  last_loss = 0.\n",
    "\n",
    "  for i, data in enumerate(training_loader):\n",
    "    # Every data instance is an input + label pair\n",
    "    inputs, labels = data\n",
    "\n",
    "    # Zero gradients for every batch\n",
    "    optimizer.zero_grad()\n",
    "\n",
    "    # Make predictions for this batch\n",
    "    outputs = model(inputs)\n",
    "\n",
    "    # Compute the loss and its gradients\n",
    "    loss = loss_fn(outputs, labels)\n",
    "    loss.backward()\n",
    "\n",
    "    # Adjust learning weights\n",
    "    optimizer.step()\n",
    "\n",
    "    # Gather data and report\n",
    "    running_loss += loss.item()\n",
    "    if i % 1000 == 999:\n",
    "      last_loss = running_loss / 1000 # loss per batch\n",
    "      print('  batch {} loss: {}'.format(i + 1, last_loss))\n",
    "      running_loss = 0.\n",
    "\n",
    "  return last_loss"
   ]
  },
  {
   "cell_type": "code",
   "execution_count": 73,
   "metadata": {},
   "outputs": [
    {
     "name": "stdout",
     "output_type": "stream",
     "text": [
      "Loading file: datathon_student/train_data/train_data_0.csv\n",
      "EPOCH 1:\n"
     ]
    },
    {
     "name": "stderr",
     "output_type": "stream",
     "text": [
      "/var/folders/lz/tzsc6fzd02x8_s28s2v145r40000gn/T/ipykernel_90275/630764950.py:13: FutureWarning: Series.__getitem__ treating keys as positions is deprecated. In a future version, integer keys will always be treated as labels (consistent with DataFrame behavior). To access a value by position, use `ser.iloc[pos]`\n",
      "  data = torch.tensor(self.df.loc[index]).float()\n",
      "/var/folders/lz/tzsc6fzd02x8_s28s2v145r40000gn/T/ipykernel_90275/630764950.py:15: FutureWarning: Series.__getitem__ treating keys as positions is deprecated. In a future version, integer keys will always be treated as labels (consistent with DataFrame behavior). To access a value by position, use `ser.iloc[pos]`\n",
      "  label = torch.tensor(self.labels.loc[index]).float()\n"
     ]
    },
    {
     "name": "stdout",
     "output_type": "stream",
     "text": [
      "  batch 1000 loss: 0.030868761732814165\n",
      "LOSS train 0.030868761732814165\n",
      "EPOCH 2:\n",
      "  batch 1000 loss: 0.030688085252186283\n",
      "LOSS train 0.030688085252186283\n",
      "EPOCH 3:\n",
      "  batch 1000 loss: 0.030052253105417547\n",
      "LOSS train 0.030052253105417547\n",
      "Loading file: datathon_student/train_data/train_data_1.csv\n",
      "EPOCH 1:\n"
     ]
    },
    {
     "name": "stderr",
     "output_type": "stream",
     "text": [
      "/var/folders/lz/tzsc6fzd02x8_s28s2v145r40000gn/T/ipykernel_90275/630764950.py:13: FutureWarning: Series.__getitem__ treating keys as positions is deprecated. In a future version, integer keys will always be treated as labels (consistent with DataFrame behavior). To access a value by position, use `ser.iloc[pos]`\n",
      "  data = torch.tensor(self.df.loc[index]).float()\n",
      "/var/folders/lz/tzsc6fzd02x8_s28s2v145r40000gn/T/ipykernel_90275/630764950.py:15: FutureWarning: Series.__getitem__ treating keys as positions is deprecated. In a future version, integer keys will always be treated as labels (consistent with DataFrame behavior). To access a value by position, use `ser.iloc[pos]`\n",
      "  label = torch.tensor(self.labels.loc[index]).float()\n"
     ]
    },
    {
     "name": "stdout",
     "output_type": "stream",
     "text": [
      "  batch 1000 loss: 0.030533131451963527\n",
      "LOSS train 0.030533131451963527\n",
      "EPOCH 2:\n",
      "  batch 1000 loss: 0.030650622462872888\n",
      "LOSS train 0.030650622462872888\n",
      "EPOCH 3:\n",
      "  batch 1000 loss: 0.03110358352443154\n",
      "LOSS train 0.03110358352443154\n",
      "Loading file: datathon_student/train_data/train_data_2.csv\n",
      "EPOCH 1:\n"
     ]
    },
    {
     "name": "stderr",
     "output_type": "stream",
     "text": [
      "/var/folders/lz/tzsc6fzd02x8_s28s2v145r40000gn/T/ipykernel_90275/630764950.py:13: FutureWarning: Series.__getitem__ treating keys as positions is deprecated. In a future version, integer keys will always be treated as labels (consistent with DataFrame behavior). To access a value by position, use `ser.iloc[pos]`\n",
      "  data = torch.tensor(self.df.loc[index]).float()\n",
      "/var/folders/lz/tzsc6fzd02x8_s28s2v145r40000gn/T/ipykernel_90275/630764950.py:15: FutureWarning: Series.__getitem__ treating keys as positions is deprecated. In a future version, integer keys will always be treated as labels (consistent with DataFrame behavior). To access a value by position, use `ser.iloc[pos]`\n",
      "  label = torch.tensor(self.labels.loc[index]).float()\n"
     ]
    },
    {
     "name": "stdout",
     "output_type": "stream",
     "text": [
      "  batch 1000 loss: 0.030847782335510145\n",
      "LOSS train 0.030847782335510145\n",
      "EPOCH 2:\n",
      "  batch 1000 loss: 0.03028920191857924\n",
      "LOSS train 0.03028920191857924\n",
      "EPOCH 3:\n",
      "  batch 1000 loss: 0.030802631925108473\n",
      "LOSS train 0.030802631925108473\n",
      "Loading file: datathon_student/train_data/train_data_3.csv\n",
      "EPOCH 1:\n"
     ]
    },
    {
     "name": "stderr",
     "output_type": "stream",
     "text": [
      "/var/folders/lz/tzsc6fzd02x8_s28s2v145r40000gn/T/ipykernel_90275/630764950.py:13: FutureWarning: Series.__getitem__ treating keys as positions is deprecated. In a future version, integer keys will always be treated as labels (consistent with DataFrame behavior). To access a value by position, use `ser.iloc[pos]`\n",
      "  data = torch.tensor(self.df.loc[index]).float()\n",
      "/var/folders/lz/tzsc6fzd02x8_s28s2v145r40000gn/T/ipykernel_90275/630764950.py:15: FutureWarning: Series.__getitem__ treating keys as positions is deprecated. In a future version, integer keys will always be treated as labels (consistent with DataFrame behavior). To access a value by position, use `ser.iloc[pos]`\n",
      "  label = torch.tensor(self.labels.loc[index]).float()\n"
     ]
    },
    {
     "name": "stdout",
     "output_type": "stream",
     "text": [
      "  batch 1000 loss: 0.031170632917944203\n",
      "LOSS train 0.031170632917944203\n",
      "EPOCH 2:\n",
      "  batch 1000 loss: 0.030904704718669563\n",
      "LOSS train 0.030904704718669563\n",
      "EPOCH 3:\n",
      "  batch 1000 loss: 0.030946313185898362\n",
      "LOSS train 0.030946313185898362\n",
      "Loading file: datathon_student/train_data/train_data_4.csv\n",
      "EPOCH 1:\n"
     ]
    },
    {
     "name": "stderr",
     "output_type": "stream",
     "text": [
      "/var/folders/lz/tzsc6fzd02x8_s28s2v145r40000gn/T/ipykernel_90275/630764950.py:13: FutureWarning: Series.__getitem__ treating keys as positions is deprecated. In a future version, integer keys will always be treated as labels (consistent with DataFrame behavior). To access a value by position, use `ser.iloc[pos]`\n",
      "  data = torch.tensor(self.df.loc[index]).float()\n",
      "/var/folders/lz/tzsc6fzd02x8_s28s2v145r40000gn/T/ipykernel_90275/630764950.py:15: FutureWarning: Series.__getitem__ treating keys as positions is deprecated. In a future version, integer keys will always be treated as labels (consistent with DataFrame behavior). To access a value by position, use `ser.iloc[pos]`\n",
      "  label = torch.tensor(self.labels.loc[index]).float()\n"
     ]
    },
    {
     "name": "stdout",
     "output_type": "stream",
     "text": [
      "  batch 1000 loss: 0.03087061386100504\n",
      "LOSS train 0.03087061386100504\n",
      "EPOCH 2:\n",
      "  batch 1000 loss: 0.030806856761050314\n",
      "LOSS train 0.030806856761050314\n",
      "EPOCH 3:\n",
      "  batch 1000 loss: 0.03063975946395476\n",
      "LOSS train 0.03063975946395476\n",
      "Loading file: datathon_student/train_data/train_data_5.csv\n",
      "EPOCH 1:\n"
     ]
    },
    {
     "name": "stderr",
     "output_type": "stream",
     "text": [
      "/var/folders/lz/tzsc6fzd02x8_s28s2v145r40000gn/T/ipykernel_90275/630764950.py:13: FutureWarning: Series.__getitem__ treating keys as positions is deprecated. In a future version, integer keys will always be treated as labels (consistent with DataFrame behavior). To access a value by position, use `ser.iloc[pos]`\n",
      "  data = torch.tensor(self.df.loc[index]).float()\n",
      "/var/folders/lz/tzsc6fzd02x8_s28s2v145r40000gn/T/ipykernel_90275/630764950.py:15: FutureWarning: Series.__getitem__ treating keys as positions is deprecated. In a future version, integer keys will always be treated as labels (consistent with DataFrame behavior). To access a value by position, use `ser.iloc[pos]`\n",
      "  label = torch.tensor(self.labels.loc[index]).float()\n"
     ]
    },
    {
     "name": "stdout",
     "output_type": "stream",
     "text": [
      "  batch 1000 loss: 0.030348188916093477\n",
      "LOSS train 0.030348188916093477\n",
      "EPOCH 2:\n",
      "  batch 1000 loss: 0.030256801371281655\n",
      "LOSS train 0.030256801371281655\n",
      "EPOCH 3:\n",
      "  batch 1000 loss: 0.03051843699751453\n",
      "LOSS train 0.03051843699751453\n",
      "Loading file: datathon_student/train_data/train_data_6.csv\n",
      "EPOCH 1:\n"
     ]
    },
    {
     "name": "stderr",
     "output_type": "stream",
     "text": [
      "/var/folders/lz/tzsc6fzd02x8_s28s2v145r40000gn/T/ipykernel_90275/630764950.py:13: FutureWarning: Series.__getitem__ treating keys as positions is deprecated. In a future version, integer keys will always be treated as labels (consistent with DataFrame behavior). To access a value by position, use `ser.iloc[pos]`\n",
      "  data = torch.tensor(self.df.loc[index]).float()\n",
      "/var/folders/lz/tzsc6fzd02x8_s28s2v145r40000gn/T/ipykernel_90275/630764950.py:15: FutureWarning: Series.__getitem__ treating keys as positions is deprecated. In a future version, integer keys will always be treated as labels (consistent with DataFrame behavior). To access a value by position, use `ser.iloc[pos]`\n",
      "  label = torch.tensor(self.labels.loc[index]).float()\n"
     ]
    },
    {
     "name": "stdout",
     "output_type": "stream",
     "text": [
      "  batch 1000 loss: 0.030674636182114\n",
      "LOSS train 0.030674636182114\n",
      "EPOCH 2:\n",
      "  batch 1000 loss: 0.02994938337906865\n",
      "LOSS train 0.02994938337906865\n",
      "EPOCH 3:\n",
      "  batch 1000 loss: 0.03112891795231826\n",
      "LOSS train 0.03112891795231826\n",
      "Loading file: datathon_student/train_data/train_data_7.csv\n",
      "EPOCH 1:\n"
     ]
    },
    {
     "name": "stderr",
     "output_type": "stream",
     "text": [
      "/var/folders/lz/tzsc6fzd02x8_s28s2v145r40000gn/T/ipykernel_90275/630764950.py:13: FutureWarning: Series.__getitem__ treating keys as positions is deprecated. In a future version, integer keys will always be treated as labels (consistent with DataFrame behavior). To access a value by position, use `ser.iloc[pos]`\n",
      "  data = torch.tensor(self.df.loc[index]).float()\n",
      "/var/folders/lz/tzsc6fzd02x8_s28s2v145r40000gn/T/ipykernel_90275/630764950.py:15: FutureWarning: Series.__getitem__ treating keys as positions is deprecated. In a future version, integer keys will always be treated as labels (consistent with DataFrame behavior). To access a value by position, use `ser.iloc[pos]`\n",
      "  label = torch.tensor(self.labels.loc[index]).float()\n"
     ]
    },
    {
     "name": "stdout",
     "output_type": "stream",
     "text": [
      "  batch 1000 loss: 0.030164942395829713\n",
      "LOSS train 0.030164942395829713\n",
      "EPOCH 2:\n",
      "  batch 1000 loss: 0.03085201465111106\n",
      "LOSS train 0.03085201465111106\n",
      "EPOCH 3:\n",
      "  batch 1000 loss: 0.03064919065166727\n",
      "LOSS train 0.03064919065166727\n",
      "Loading file: datathon_student/train_data/train_data_8.csv\n",
      "EPOCH 1:\n"
     ]
    },
    {
     "name": "stderr",
     "output_type": "stream",
     "text": [
      "/var/folders/lz/tzsc6fzd02x8_s28s2v145r40000gn/T/ipykernel_90275/630764950.py:13: FutureWarning: Series.__getitem__ treating keys as positions is deprecated. In a future version, integer keys will always be treated as labels (consistent with DataFrame behavior). To access a value by position, use `ser.iloc[pos]`\n",
      "  data = torch.tensor(self.df.loc[index]).float()\n",
      "/var/folders/lz/tzsc6fzd02x8_s28s2v145r40000gn/T/ipykernel_90275/630764950.py:15: FutureWarning: Series.__getitem__ treating keys as positions is deprecated. In a future version, integer keys will always be treated as labels (consistent with DataFrame behavior). To access a value by position, use `ser.iloc[pos]`\n",
      "  label = torch.tensor(self.labels.loc[index]).float()\n"
     ]
    },
    {
     "name": "stdout",
     "output_type": "stream",
     "text": [
      "  batch 1000 loss: 0.03035215855394302\n",
      "LOSS train 0.03035215855394302\n",
      "EPOCH 2:\n",
      "  batch 1000 loss: 0.031414460862319735\n",
      "LOSS train 0.031414460862319735\n",
      "EPOCH 3:\n",
      "  batch 1000 loss: 0.030523799685136906\n",
      "LOSS train 0.030523799685136906\n",
      "Loading file: datathon_student/train_data/train_data_9.csv\n",
      "EPOCH 1:\n"
     ]
    },
    {
     "name": "stderr",
     "output_type": "stream",
     "text": [
      "/var/folders/lz/tzsc6fzd02x8_s28s2v145r40000gn/T/ipykernel_90275/630764950.py:13: FutureWarning: Series.__getitem__ treating keys as positions is deprecated. In a future version, integer keys will always be treated as labels (consistent with DataFrame behavior). To access a value by position, use `ser.iloc[pos]`\n",
      "  data = torch.tensor(self.df.loc[index]).float()\n",
      "/var/folders/lz/tzsc6fzd02x8_s28s2v145r40000gn/T/ipykernel_90275/630764950.py:15: FutureWarning: Series.__getitem__ treating keys as positions is deprecated. In a future version, integer keys will always be treated as labels (consistent with DataFrame behavior). To access a value by position, use `ser.iloc[pos]`\n",
      "  label = torch.tensor(self.labels.loc[index]).float()\n"
     ]
    },
    {
     "name": "stdout",
     "output_type": "stream",
     "text": [
      "  batch 1000 loss: 0.03057076785030344\n",
      "LOSS train 0.03057076785030344\n",
      "EPOCH 2:\n",
      "  batch 1000 loss: 0.030398798311398665\n",
      "LOSS train 0.030398798311398665\n",
      "EPOCH 3:\n",
      "  batch 1000 loss: 0.030898880102214178\n",
      "LOSS train 0.030898880102214178\n",
      "Loading file: datathon_student/train_data/train_data_10.csv\n",
      "EPOCH 1:\n"
     ]
    },
    {
     "name": "stderr",
     "output_type": "stream",
     "text": [
      "/var/folders/lz/tzsc6fzd02x8_s28s2v145r40000gn/T/ipykernel_90275/630764950.py:13: FutureWarning: Series.__getitem__ treating keys as positions is deprecated. In a future version, integer keys will always be treated as labels (consistent with DataFrame behavior). To access a value by position, use `ser.iloc[pos]`\n",
      "  data = torch.tensor(self.df.loc[index]).float()\n",
      "/var/folders/lz/tzsc6fzd02x8_s28s2v145r40000gn/T/ipykernel_90275/630764950.py:15: FutureWarning: Series.__getitem__ treating keys as positions is deprecated. In a future version, integer keys will always be treated as labels (consistent with DataFrame behavior). To access a value by position, use `ser.iloc[pos]`\n",
      "  label = torch.tensor(self.labels.loc[index]).float()\n"
     ]
    },
    {
     "name": "stdout",
     "output_type": "stream",
     "text": [
      "  batch 1000 loss: 0.030274613870493863\n",
      "LOSS train 0.030274613870493863\n",
      "EPOCH 2:\n",
      "  batch 1000 loss: 0.030102155425010622\n",
      "LOSS train 0.030102155425010622\n",
      "EPOCH 3:\n",
      "  batch 1000 loss: 0.030414426884157755\n",
      "LOSS train 0.030414426884157755\n"
     ]
    }
   ],
   "source": [
    "for filename in data_files:\n",
    "    training_dataset = CustomDataset(filename, \"datathon_student/train_target.csv\", )\n",
    "    training_loader = DataLoader(training_dataset, batch_size=64, shuffle=True)\n",
    "\n",
    "    print(f\"Loading file: {filename}\")\n",
    "\n",
    "    epoch_number = 0\n",
    "    EPOCHS = 3\n",
    "\n",
    "    average_losses = []\n",
    "\n",
    "    model.train(True)\n",
    "\n",
    "    for epoch in range(EPOCHS):\n",
    "        print('EPOCH {}:'.format(epoch_number + 1))\n",
    "\n",
    "        avg_loss = train_one_epoch(epoch_number)\n",
    "        average_losses.append(avg_loss)\n",
    "\n",
    "        print('LOSS train {}'.format(avg_loss))\n",
    "\n",
    "        model_path = 'model_{}'.format(epoch_number)\n",
    "        torch.save(model.state_dict(), model_path)\n",
    "        epoch_number += 1"
   ]
  }
 ],
 "metadata": {
  "kernelspec": {
   "display_name": "Python 3",
   "language": "python",
   "name": "python3"
  },
  "language_info": {
   "codemirror_mode": {
    "name": "ipython",
    "version": 3
   },
   "file_extension": ".py",
   "mimetype": "text/x-python",
   "name": "python",
   "nbconvert_exporter": "python",
   "pygments_lexer": "ipython3",
   "version": "3.12.2"
  }
 },
 "nbformat": 4,
 "nbformat_minor": 2
}
