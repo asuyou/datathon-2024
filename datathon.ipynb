{
 "cells": [
  {
   "cell_type": "code",
   "execution_count": 1,
   "metadata": {},
   "outputs": [],
   "source": [
    "import numpy as np\n",
    "import pandas as pd\n",
    "import matplotlib.pyplot as plt\n",
    "import torch\n",
    "from torch import nn\n",
    "from torch.utils.data import DataLoader, Dataset"
   ]
  },
  {
   "cell_type": "code",
   "execution_count": 2,
   "metadata": {},
   "outputs": [
    {
     "name": "stdout",
     "output_type": "stream",
     "text": [
      "Using cuda device\n"
     ]
    }
   ],
   "source": [
    "device = (\n",
    "    \"cuda\"\n",
    "    if torch.cuda.is_available()\n",
    "    else \"mps\"\n",
    "    if torch.backends.mps.is_available()\n",
    "    else \"cpu\"\n",
    ")\n",
    "print(f\"Using {device} device\")"
   ]
  },
  {
   "cell_type": "code",
   "execution_count": 3,
   "metadata": {},
   "outputs": [],
   "source": [
    "class NeuralNetwork(nn.Module):\n",
    "  def __init__(self):\n",
    "      super().__init__()\n",
    "      self.linear_stack = nn.Sequential(\n",
    "          nn.Linear(15, 10),\n",
    "          nn.LeakyReLU(),\n",
    "          nn.Linear(10, 5),\n",
    "          nn.LeakyReLU(),\n",
    "          nn.Linear(5, 1),\n",
    "          nn.LeakyReLU()\n",
    "      )\n",
    "\n",
    "  def forward(self, x):\n",
    "    logits = self.linear_stack(x)\n",
    "    return logits"
   ]
  },
  {
   "cell_type": "code",
   "execution_count": 6,
   "metadata": {},
   "outputs": [
    {
     "name": "stdout",
     "output_type": "stream",
     "text": [
      "NeuralNetwork(\n",
      "  (linear_stack): Sequential(\n",
      "    (0): Linear(in_features=15, out_features=10, bias=True)\n",
      "    (1): LeakyReLU(negative_slope=0.01)\n",
      "    (2): Linear(in_features=10, out_features=5, bias=True)\n",
      "    (3): LeakyReLU(negative_slope=0.01)\n",
      "    (4): Linear(in_features=5, out_features=1, bias=True)\n",
      "    (5): LeakyReLU(negative_slope=0.01)\n",
      "  )\n",
      ")\n"
     ]
    }
   ],
   "source": [
    "model = NeuralNetwork().to(device)\n",
    "print(model)\n",
    "\n",
    "loss_fn = nn.MSELoss()\n",
    "optimizer = torch.optim.SGD(model.parameters(), lr=0.001, momentum=0.9)"
   ]
  },
  {
   "cell_type": "code",
   "execution_count": 5,
   "metadata": {},
   "outputs": [],
   "source": [
    "def train_one_epoch(epoch_index):\n",
    "  running_loss = 0.\n",
    "  last_loss = 0.\n",
    "\n",
    "  for i, data in enumerate(training_loader):\n",
    "    # Every data instance is an input + label pair\n",
    "    inputs, labels = data\n",
    "\n",
    "    # Zero gradients for every batch\n",
    "    optimizer.zero_grad()\n",
    "\n",
    "    # Make predictions for this batch\n",
    "    outputs = model(inputs)\n",
    "\n",
    "    # Compute the loss and its gradients\n",
    "    loss = loss_fn(outputs, labels)\n",
    "    loss.backward()\n",
    "\n",
    "    # Adjust learning weights\n",
    "    optimizer.step()\n",
    "\n",
    "    # Gather data and report\n",
    "    running_loss += loss.item()\n",
    "    if i % 1000 == 999:\n",
    "      last_loss = running_loss / 1000 # loss per batch\n",
    "      print('  batch {} loss: {}'.format(i + 1, last_loss))\n",
    "      running_loss = 0.\n",
    "\n",
    "  return last_loss"
   ]
  },
  {
   "cell_type": "code",
   "execution_count": 8,
   "metadata": {},
   "outputs": [
    {
     "name": "stdout",
     "output_type": "stream",
     "text": [
      "EPOCH 1:\n"
     ]
    },
    {
     "ename": "NameError",
     "evalue": "name 'training_loader' is not defined",
     "output_type": "error",
     "traceback": [
      "\u001b[0;31m---------------------------------------------------------------------------\u001b[0m",
      "\u001b[0;31mNameError\u001b[0m                                 Traceback (most recent call last)",
      "Cell \u001b[0;32mIn[8], line 10\u001b[0m\n\u001b[1;32m      7\u001b[0m \u001b[38;5;28mprint\u001b[39m(\u001b[38;5;124m'\u001b[39m\u001b[38;5;124mEPOCH \u001b[39m\u001b[38;5;132;01m{}\u001b[39;00m\u001b[38;5;124m:\u001b[39m\u001b[38;5;124m'\u001b[39m\u001b[38;5;241m.\u001b[39mformat(epoch_number \u001b[38;5;241m+\u001b[39m \u001b[38;5;241m1\u001b[39m))\n\u001b[1;32m      9\u001b[0m model\u001b[38;5;241m.\u001b[39mtrain(\u001b[38;5;28;01mTrue\u001b[39;00m)\n\u001b[0;32m---> 10\u001b[0m avg_loss \u001b[38;5;241m=\u001b[39m \u001b[43mtrain_one_epoch\u001b[49m\u001b[43m(\u001b[49m\u001b[43mepoch_number\u001b[49m\u001b[43m)\u001b[49m\n\u001b[1;32m     11\u001b[0m average_losses\u001b[38;5;241m.\u001b[39mappend(avg_loss)\n\u001b[1;32m     13\u001b[0m \u001b[38;5;66;03m#   running_vloss = 0.0\u001b[39;00m\n",
      "Cell \u001b[0;32mIn[5], line 5\u001b[0m, in \u001b[0;36mtrain_one_epoch\u001b[0;34m(epoch_index)\u001b[0m\n\u001b[1;32m      2\u001b[0m running_loss \u001b[38;5;241m=\u001b[39m \u001b[38;5;241m0.\u001b[39m\n\u001b[1;32m      3\u001b[0m last_loss \u001b[38;5;241m=\u001b[39m \u001b[38;5;241m0.\u001b[39m\n\u001b[0;32m----> 5\u001b[0m \u001b[38;5;28;01mfor\u001b[39;00m i, data \u001b[38;5;129;01min\u001b[39;00m \u001b[38;5;28menumerate\u001b[39m(\u001b[43mtraining_loader\u001b[49m):\n\u001b[1;32m      6\u001b[0m   \u001b[38;5;66;03m# Every data instance is an input + label pair\u001b[39;00m\n\u001b[1;32m      7\u001b[0m   inputs, labels \u001b[38;5;241m=\u001b[39m data\n\u001b[1;32m      9\u001b[0m   \u001b[38;5;66;03m# Zero gradients for every batch\u001b[39;00m\n",
      "\u001b[0;31mNameError\u001b[0m: name 'training_loader' is not defined"
     ]
    }
   ],
   "source": [
    "epoch_number = 0\n",
    "EPOCHS = 5\n",
    "\n",
    "average_losses = []\n",
    "\n",
    "for epoch in range(EPOCHS):\n",
    "    print('EPOCH {}:'.format(epoch_number + 1))\n",
    "\n",
    "    model.train(True)\n",
    "    avg_loss = train_one_epoch(epoch_number)\n",
    "    average_losses.append(avg_loss)\n",
    "\n",
    "    #   running_vloss = 0.0\n",
    "\n",
    "    model.eval()\n",
    "\n",
    "    #   with torch.no_grad():\n",
    "    #     for i, vdata in enumerate(testing_loader):\n",
    "    #       vinputs, vlabels = vdata\n",
    "    #       voutputs = model(vinputs)\n",
    "    #       vloss = loss_fn(voutputs, vlabels)\n",
    "    #       running_vloss += vloss\n",
    "\n",
    "    #   avg_vloss = running_vloss / (i + 1)\n",
    "    print('LOSS train {}'.format(avg_loss))\n",
    "\n",
    "    model_path = 'model_{}'.format(epoch_number)\n",
    "    torch.save(model.state_dict(), model_path)"
   ]
  },
  {
   "cell_type": "code",
   "execution_count": null,
   "metadata": {},
   "outputs": [],
   "source": [
    "class CustomDataset(Dataset):\n",
    "  def __init__(self, dataset_file):\n",
    "    pass\n",
    "\n",
    "  def __len__(self):\n",
    "    pass\n",
    "\n",
    "  def __getitem__(self):\n",
    "    pass"
   ]
  },
  {
   "cell_type": "code",
   "execution_count": 13,
   "metadata": {},
   "outputs": [],
   "source": [
    "def data_prep(filename):\n",
    "  desired_columns = (\"id\",\n",
    "                     \"pre_loans5\",\n",
    "                     \"pre_loans530\",\n",
    "                     \"pre_loans3060\",\n",
    "                     \"pre_loans6090\",\n",
    "                     \"pre_loans90\",\n",
    "                     \"pre_till_pclose\",\n",
    "                     \"pre_till_fclose\",\n",
    "                     \"pre_loans_credit_limit\",\n",
    "                     \"pre_loans_next_pay_summ\",\n",
    "                     \"pre_loans_outstanding\",\n",
    "                     \"pre_loans_total_overdue\",\n",
    "                     \"pre_loans_max_overdue_sum\",\n",
    "                     \"pre_util\",\n",
    "                     \"pre_over2limit\",\n",
    "                     \"pre_maxover2limit\")\n",
    "  data = pd.read_csv(filename,usecols = desired_columns)\n",
    "  return data"
   ]
  }
 ],
 "metadata": {
  "kernelspec": {
   "display_name": "Python 3",
   "language": "python",
   "name": "python3"
  },
  "language_info": {
   "codemirror_mode": {
    "name": "ipython",
    "version": 3
   },
   "file_extension": ".py",
   "mimetype": "text/x-python",
   "name": "python",
   "nbconvert_exporter": "python",
   "pygments_lexer": "ipython3",
   "version": "3.12.2"
  }
 },
 "nbformat": 4,
 "nbformat_minor": 2
}
