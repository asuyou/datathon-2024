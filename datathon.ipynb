{
 "cells": [
  {
   "cell_type": "code",
   "execution_count": 31,
   "metadata": {},
   "outputs": [],
   "source": [
    "import numpy as np\n",
    "import pandas as pd\n",
    "import matplotlib.pyplot as plt\n",
    "import torch\n",
    "from torch import nn\n",
    "from torch.utils.data import DataLoader, Dataset\n",
    "from typing import List"
   ]
  },
  {
   "cell_type": "code",
   "execution_count": 32,
   "metadata": {},
   "outputs": [
    {
     "name": "stdout",
     "output_type": "stream",
     "text": [
      "Using cpu device\n"
     ]
    }
   ],
   "source": [
    "device = (\n",
    "    \"cuda\"\n",
    "    if torch.cuda.is_available()\n",
    "    else \"mps\"\n",
    "    if torch.backends.mps.is_available()\n",
    "    else \"cpu\"\n",
    ")\n",
    "print(f\"Using {device} device\")"
   ]
  },
  {
   "cell_type": "code",
   "execution_count": 89,
   "metadata": {},
   "outputs": [],
   "source": [
    "class NeuralNetwork(nn.Module):\n",
    "  def __init__(self):\n",
    "      super().__init__()\n",
    "      self.linear_stack = nn.Sequential(\n",
    "          nn.Linear(15, 10),\n",
    "          nn.LeakyReLU(),\n",
    "          nn.Linear(10, 5),\n",
    "          nn.LeakyReLU(),\n",
    "          nn.Linear(5, 1),\n",
    "          nn.LeakyReLU()\n",
    "      )\n",
    "\n",
    "  def forward(self, x):\n",
    "    logits = self.linear_stack(x)\n",
    "    return logits"
   ]
  },
  {
   "cell_type": "code",
   "execution_count": 82,
   "metadata": {},
   "outputs": [
    {
     "name": "stdout",
     "output_type": "stream",
     "text": [
      "NeuralNetwork(\n",
      "  (linear_stack): Sequential(\n",
      "    (0): Linear(in_features=15, out_features=10, bias=True)\n",
      "    (1): LeakyReLU(negative_slope=0.01)\n",
      "    (2): Linear(in_features=10, out_features=5, bias=True)\n",
      "    (3): LeakyReLU(negative_slope=0.01)\n",
      "    (4): Linear(in_features=5, out_features=1, bias=True)\n",
      "    (5): LeakyReLU(negative_slope=0.01)\n",
      "  )\n",
      ")\n"
     ]
    }
   ],
   "source": [
    "model = NeuralNetwork().to(device)\n",
    "print(model)\n",
    "\n",
    "loss_fn = nn.MSELoss()\n",
    "optimizer = torch.optim.SGD(model.parameters(), lr=0.001, momentum=0.9)"
   ]
  },
  {
   "cell_type": "code",
   "execution_count": 83,
   "metadata": {},
   "outputs": [],
   "source": [
    "def load_labels(filename):\n",
    "    cols = [\"flag\"]\n",
    "    data = pd.read_csv(filename, usecols=cols)\n",
    "    # data.set_index(\"id\", inplace=True)\n",
    "    return data"
   ]
  },
  {
   "cell_type": "code",
   "execution_count": 84,
   "metadata": {},
   "outputs": [],
   "source": [
    "def data_prep(filename):\n",
    "  desired_columns = [\"pre_loans5\",\n",
    "                     \"pre_loans530\",\n",
    "                     \"pre_loans3060\",\n",
    "                     \"pre_loans6090\",\n",
    "                     \"pre_loans90\",\n",
    "                     \"pre_till_pclose\",\n",
    "                     \"pre_till_fclose\",\n",
    "                     \"pre_loans_credit_limit\",\n",
    "                     \"pre_loans_next_pay_summ\",\n",
    "                     \"pre_loans_outstanding\",\n",
    "                     \"pre_loans_total_overdue\",\n",
    "                     \"pre_loans_max_overdue_sum\",\n",
    "                     \"pre_util\",\n",
    "                     \"pre_over2limit\",\n",
    "                     \"pre_maxover2limit\"]\n",
    "  data = pd.read_csv(filename,usecols = desired_columns)\n",
    "  # data.set_index(\"id\", inplace=True)\n",
    "  return data"
   ]
  },
  {
   "cell_type": "code",
   "execution_count": 90,
   "metadata": {},
   "outputs": [],
   "source": [
    "class CustomDataset(Dataset):\n",
    "  def __init__(self, dataset_files: List[int], label_file, transform=None):\n",
    "    self.df = pd.DataFrame()\n",
    "    self.df = pd.concat([data_prep(file) for file in dataset_files])\n",
    "    self.labels = load_labels(label_file)\n",
    "    self.transform = transform\n",
    "\n",
    "\n",
    "  def __len__(self):\n",
    "    return self.df.shape[0]\n",
    "\n",
    "  def __getitem__(self, index):\n",
    "    data = torch.tensor(self.df.loc[index]).double()\n",
    "    label = torch.tensor(self.labels.loc[index]).double()\n",
    "\n",
    "    if self.transform:\n",
    "      data = self.transform(data)\n",
    "    return data, label"
   ]
  },
  {
   "cell_type": "code",
   "execution_count": 91,
   "metadata": {},
   "outputs": [],
   "source": [
    "training_dataset = CustomDataset([\n",
    "    \"datathon_student/train_data/train_data_0.csv\",\n",
    "    \"datathon_student/train_data/train_data_1.csv\",\n",
    "    \"datathon_student/train_data/train_data_2.csv\",\n",
    "    \"datathon_student/train_data/train_data_3.csv\",\n",
    "    \"datathon_student/train_data/train_data_4.csv\",\n",
    "    \"datathon_student/train_data/train_data_5.csv\",\n",
    "    \"datathon_student/train_data/train_data_6.csv\",\n",
    "    \"datathon_student/train_data/train_data_7.csv\",\n",
    "    \"datathon_student/train_data/train_data_8.csv\",\n",
    "    \"datathon_student/train_data/train_data_9.csv\",\n",
    "    \"datathon_student/train_data/train_data_10.csv\",\n",
    "], \"datathon_student/train_target.csv\", )\n",
    "\n",
    "training_loader = DataLoader(training_dataset, batch_size=64, shuffle=True)"
   ]
  },
  {
   "cell_type": "code",
   "execution_count": 92,
   "metadata": {},
   "outputs": [],
   "source": [
    "def train_one_epoch(epoch_index):\n",
    "  running_loss = 0.\n",
    "  last_loss = 0.\n",
    "\n",
    "  for i, data in enumerate(training_loader):\n",
    "    # Every data instance is an input + label pair\n",
    "    inputs, labels = data\n",
    "\n",
    "    # Zero gradients for every batch\n",
    "    optimizer.zero_grad()\n",
    "\n",
    "    # Make predictions for this batch\n",
    "    outputs = model(inputs)\n",
    "\n",
    "    # Compute the loss and its gradients\n",
    "    loss = loss_fn(outputs, labels)\n",
    "    loss.backward()\n",
    "\n",
    "    # Adjust learning weights\n",
    "    optimizer.step()\n",
    "\n",
    "    # Gather data and report\n",
    "    running_loss += loss.item()\n",
    "    if i % 1000 == 999:\n",
    "      last_loss = running_loss / 1000 # loss per batch\n",
    "      print('  batch {} loss: {}'.format(i + 1, last_loss))\n",
    "      running_loss = 0.\n",
    "\n",
    "  return last_loss"
   ]
  },
  {
   "cell_type": "code",
   "execution_count": 94,
   "metadata": {},
   "outputs": [
    {
     "name": "stdout",
     "output_type": "stream",
     "text": [
      "EPOCH 1:\n"
     ]
    },
    {
     "name": "stderr",
     "output_type": "stream",
     "text": [
      "/var/tmp/ipykernel_428297/3544833989.py:13: FutureWarning: Series.__getitem__ treating keys as positions is deprecated. In a future version, integer keys will always be treated as labels (consistent with DataFrame behavior). To access a value by position, use `ser.iloc[pos]`\n",
      "  data = torch.tensor(self.df.loc[index]).double()\n",
      "/var/tmp/ipykernel_428297/3544833989.py:14: FutureWarning: Series.__getitem__ treating keys as positions is deprecated. In a future version, integer keys will always be treated as labels (consistent with DataFrame behavior). To access a value by position, use `ser.iloc[pos]`\n",
      "  label = torch.tensor(self.labels.loc[index]).double()\n"
     ]
    },
    {
     "name": "stdout",
     "output_type": "stream",
     "text": [
      "  batch 1000 loss: 0.038816361217663284\n",
      "  batch 2000 loss: 0.033767471594472916\n",
      "  batch 3000 loss: 0.0374334817932053\n",
      "  batch 4000 loss: 0.0331824362463732\n",
      "  batch 5000 loss: 0.035198265704711476\n",
      "  batch 6000 loss: 0.0341236987233373\n",
      "  batch 7000 loss: 0.031461678994399125\n",
      "  batch 8000 loss: 0.032821271167891755\n",
      "  batch 9000 loss: 0.04288211725693564\n",
      "  batch 10000 loss: 0.038700827594956785\n",
      "  batch 11000 loss: 0.03743395361887705\n",
      "  batch 12000 loss: 0.03408593349417668\n",
      "  batch 13000 loss: 0.03211904559523472\n",
      "  batch 14000 loss: 0.04204234735509084\n",
      "  batch 15000 loss: 0.03809481817058177\n",
      "  batch 16000 loss: 0.03337958837479168\n",
      "  batch 17000 loss: 0.03794246988660733\n",
      "  batch 18000 loss: 0.04017003888350857\n",
      "  batch 19000 loss: 0.031577920654953885\n",
      "  batch 20000 loss: 0.03166884849493923\n",
      "  batch 21000 loss: 0.034919025707491856\n",
      "  batch 22000 loss: 0.04044758032211493\n",
      "  batch 23000 loss: 0.04213577880358061\n",
      "  batch 24000 loss: 0.03493864672828816\n",
      "  batch 25000 loss: 0.03744035429576222\n",
      "  batch 26000 loss: 0.033577563617962346\n",
      "  batch 27000 loss: 0.027253762681805602\n",
      "  batch 28000 loss: 0.03273105182814286\n",
      "  batch 29000 loss: 0.03675467071915642\n",
      "  batch 30000 loss: 0.03516547521364534\n",
      "  batch 31000 loss: 0.03246256768706493\n",
      "  batch 32000 loss: 0.035461135138723975\n",
      "  batch 33000 loss: 0.036853988041820746\n"
     ]
    }
   ],
   "source": [
    "epoch_number = 0\n",
    "EPOCHS = 10\n",
    "\n",
    "average_losses = []\n",
    "\n",
    "model.train(True)\n",
    "\n",
    "for epoch in range(EPOCHS):\n",
    "    print('EPOCH {}:'.format(epoch_number + 1))\n",
    "\n",
    "    avg_loss = train_one_epoch(epoch_number)\n",
    "    average_losses.append(avg_loss)\n",
    "\n",
    "    print('LOSS train {}'.format(avg_loss))\n",
    "\n",
    "    model_path = 'model_{}'.format(epoch_number)\n",
    "    torch.save(model.state_dict(), model_path)"
   ]
  }
 ],
 "metadata": {
  "kernelspec": {
   "display_name": "Python 3",
   "language": "python",
   "name": "python3"
  },
  "language_info": {
   "codemirror_mode": {
    "name": "ipython",
    "version": 3
   },
   "file_extension": ".py",
   "mimetype": "text/x-python",
   "name": "python",
   "nbconvert_exporter": "python",
   "pygments_lexer": "ipython3",
   "version": "3.12.2"
  }
 },
 "nbformat": 4,
 "nbformat_minor": 2
}
