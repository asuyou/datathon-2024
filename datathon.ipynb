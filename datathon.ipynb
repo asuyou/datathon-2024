{
 "cells": [
  {
   "cell_type": "code",
   "execution_count": 10,
   "metadata": {},
   "outputs": [],
   "source": [
    "import numpy as np\n",
    "import pandas as pd\n",
    "import matplotlib.pyplot as plt\n",
    "import torch\n",
    "from torch import nn\n",
    "from torch.utils.data import DataLoader, Dataset"
   ]
  },
  {
   "cell_type": "code",
   "execution_count": 11,
   "metadata": {},
   "outputs": [
    {
     "name": "stdout",
     "output_type": "stream",
     "text": [
      "Using cpu device\n"
     ]
    }
   ],
   "source": [
    "device = (\n",
    "    \"cuda\"\n",
    "    if torch.cuda.is_available()\n",
    "    else \"mps\"\n",
    "    if torch.backends.mps.is_available()\n",
    "    else \"cpu\"\n",
    ")\n",
    "print(f\"Using {device} device\")"
   ]
  },
  {
   "cell_type": "code",
   "execution_count": 12,
   "metadata": {},
   "outputs": [],
   "source": [
    "class NeuralNetwork(nn.Module):\n",
    "  def __init__(self):\n",
    "      super().__init__()\n",
    "      self.linear_stack = nn.Sequential(\n",
    "          nn.Linear(15, 10),\n",
    "          nn.LeakyReLU(),\n",
    "          nn.Linear(10, 5),\n",
    "          nn.LeakyReLU(),\n",
    "          nn.Linear(5, 1),\n",
    "          nn.LeakyReLU()\n",
    "      )\n",
    "\n",
    "  def forward(self, x):\n",
    "    logits = self.linear_stack(x)\n",
    "    return logits"
   ]
  },
  {
   "cell_type": "code",
   "execution_count": 13,
   "metadata": {},
   "outputs": [
    {
     "name": "stdout",
     "output_type": "stream",
     "text": [
      "NeuralNetwork(\n",
      "  (linear_stack): Sequential(\n",
      "    (0): Linear(in_features=15, out_features=10, bias=True)\n",
      "    (1): LeakyReLU(negative_slope=0.01)\n",
      "    (2): Linear(in_features=10, out_features=5, bias=True)\n",
      "    (3): LeakyReLU(negative_slope=0.01)\n",
      "    (4): Linear(in_features=5, out_features=1, bias=True)\n",
      "    (5): LeakyReLU(negative_slope=0.01)\n",
      "  )\n",
      ")\n"
     ]
    }
   ],
   "source": [
    "model = NeuralNetwork().to(device)\n",
    "print(model)\n",
    "\n",
    "loss_fn = nn.MSELoss()\n",
    "optimizer = torch.optim.SGD(model.parameters(), lr=0.001, momentum=0.9)"
   ]
  },
  {
   "cell_type": "code",
   "execution_count": 16,
   "metadata": {},
   "outputs": [],
   "source": [
    "def load_labels(filename):\n",
    "    cols = (\"id\", \"flag\")\n",
    "    data = pd.read_csv(filename, usecols=cols)\n",
    "    data.set_index(\"id\", inplace=True)\n",
    "    return data"
   ]
  },
  {
   "cell_type": "code",
   "execution_count": 17,
   "metadata": {},
   "outputs": [],
   "source": [
    "def data_prep(filename):\n",
    "  desired_columns = (\"id\",\n",
    "                     \"pre_loans5\",\n",
    "                     \"pre_loans530\",\n",
    "                     \"pre_loans3060\",\n",
    "                     \"pre_loans6090\",\n",
    "                     \"pre_loans90\",\n",
    "                     \"pre_till_pclose\",\n",
    "                     \"pre_till_fclose\",\n",
    "                     \"pre_loans_credit_limit\",\n",
    "                     \"pre_loans_next_pay_summ\",\n",
    "                     \"pre_loans_outstanding\",\n",
    "                     \"pre_loans_total_overdue\",\n",
    "                     \"pre_loans_max_overdue_sum\",\n",
    "                     \"pre_util\",\n",
    "                     \"pre_over2limit\",\n",
    "                     \"pre_maxover2limit\")\n",
    "  data = pd.read_csv(filename,usecols = desired_columns)\n",
    "  data.set_index(\"id\", inplace=True)\n",
    "  return data"
   ]
  },
  {
   "cell_type": "code",
   "execution_count": 18,
   "metadata": {},
   "outputs": [],
   "source": [
    "class CustomDataset(Dataset):\n",
    "  def __init__(self, dataset_file, label_file, transform=None):\n",
    "    self.df = data_prep(dataset_file)\n",
    "    self.labels = load_labels(label_file)\n",
    "    self.transform = transform\n",
    "\n",
    "\n",
    "  def __len__(self):\n",
    "    return self.df.shape[0]\n",
    "\n",
    "  def __getitem__(self, index):\n",
    "    data = self.df.iloc[index]\n",
    "    label = self.labels.iloc[index]\n",
    "\n",
    "    if self.transform:\n",
    "      data = self.transform(data)\n",
    "    return data, label"
   ]
  },
  {
   "cell_type": "code",
   "execution_count": null,
   "metadata": {},
   "outputs": [],
   "source": [
    "training_dataset = CustomDataset()\n",
    "training_loader = DataLoader()"
   ]
  },
  {
   "cell_type": "code",
   "execution_count": null,
   "metadata": {},
   "outputs": [],
   "source": [
    "def train_one_epoch(epoch_index):\n",
    "  running_loss = 0.\n",
    "  last_loss = 0.\n",
    "\n",
    "  for i, data in enumerate(training_loader):\n",
    "    # Every data instance is an input + label pair\n",
    "    inputs, labels = data\n",
    "\n",
    "    # Zero gradients for every batch\n",
    "    optimizer.zero_grad()\n",
    "\n",
    "    # Make predictions for this batch\n",
    "    outputs = model(inputs)\n",
    "\n",
    "    # Compute the loss and its gradients\n",
    "    loss = loss_fn(outputs, labels)\n",
    "    loss.backward()\n",
    "\n",
    "    # Adjust learning weights\n",
    "    optimizer.step()\n",
    "\n",
    "    # Gather data and report\n",
    "    running_loss += loss.item()\n",
    "    if i % 1000 == 999:\n",
    "      last_loss = running_loss / 1000 # loss per batch\n",
    "      print('  batch {} loss: {}'.format(i + 1, last_loss))\n",
    "      running_loss = 0.\n",
    "\n",
    "  return last_loss"
   ]
  },
  {
   "cell_type": "code",
   "execution_count": null,
   "metadata": {},
   "outputs": [],
   "source": [
    "epoch_number = 0\n",
    "EPOCHS = 5\n",
    "\n",
    "average_losses = []\n",
    "\n",
    "for epoch in range(EPOCHS):\n",
    "    print('EPOCH {}:'.format(epoch_number + 1))\n",
    "\n",
    "    model.train(True)\n",
    "    avg_loss = train_one_epoch(epoch_number)\n",
    "    average_losses.append(avg_loss)\n",
    "\n",
    "    #   running_vloss = 0.0\n",
    "\n",
    "    model.eval()\n",
    "\n",
    "    #   with torch.no_grad():\n",
    "    #     for i, vdata in enumerate(testing_loader):\n",
    "    #       vinputs, vlabels = vdata\n",
    "    #       voutputs = model(vinputs)\n",
    "    #       vloss = loss_fn(voutputs, vlabels)\n",
    "    #       running_vloss += vloss\n",
    "\n",
    "    #   avg_vloss = running_vloss / (i + 1)\n",
    "    print('LOSS train {}'.format(avg_loss))\n",
    "\n",
    "    model_path = 'model_{}'.format(epoch_number)\n",
    "    torch.save(model.state_dict(), model_path)"
   ]
  }
 ],
 "metadata": {
  "kernelspec": {
   "display_name": "Python 3",
   "language": "python",
   "name": "python3"
  },
  "language_info": {
   "codemirror_mode": {
    "name": "ipython",
    "version": 3
   },
   "file_extension": ".py",
   "mimetype": "text/x-python",
   "name": "python",
   "nbconvert_exporter": "python",
   "pygments_lexer": "ipython3",
   "version": "3.12.2"
  }
 },
 "nbformat": 4,
 "nbformat_minor": 2
}
